{
  "cells": [
    {
      "cell_type": "markdown",
      "metadata": {
        "id": "view-in-github",
        "colab_type": "text"
      },
      "source": [
        "<a href=\"https://colab.research.google.com/github/Ali7109/SpotifyStreamPrediction/blob/main/SpotifyStreamPrediction.ipynb\" target=\"_parent\"><img src=\"https://colab.research.google.com/assets/colab-badge.svg\" alt=\"Open In Colab\"/></a>"
      ]
    },
    {
      "cell_type": "markdown",
      "source": [
        "# Spotify Stream Prediction (Linear)\n",
        "Explore the intriguing world of Spotify stream prediction in our project, \"Spotify Stream Prediction (Linear),\" where we investigate the connection between a song's 'speechiness' and its popularity."
      ],
      "metadata": {
        "id": "0OfidTrkKEOl"
      }
    },
    {
      "cell_type": "markdown",
      "metadata": {
        "id": "hMPm2bdt9D6R"
      },
      "source": [
        "# **PROJECT INITIALIZATION**"
      ]
    },
    {
      "cell_type": "code",
      "execution_count": 14,
      "metadata": {
        "id": "YntUjFT98Ang"
      },
      "outputs": [],
      "source": [
        "!pip install -q sklearn"
      ]
    },
    {
      "cell_type": "code",
      "execution_count": 15,
      "metadata": {
        "id": "eYxpk42S8WmB"
      },
      "outputs": [],
      "source": [
        "from __future__ import absolute_import, division, print_function, unicode_literals\n",
        "\n",
        "import numpy as np\n",
        "import pandas as pd\n",
        "import matplotlib.pyplot as plt\n",
        "from IPython.display import clear_output\n",
        "from six.moves import urllib\n",
        "\n",
        "import tensorflow.compat.v2.feature_column as fc\n",
        "\n",
        "import tensorflow as tf"
      ]
    },
    {
      "cell_type": "markdown",
      "metadata": {
        "id": "2EBvzxI88jZT"
      },
      "source": [
        "# **Project Start**\n",
        "\n",
        "Initialization complete.\n",
        "This is assisting logic from this point on."
      ]
    },
    {
      "cell_type": "code",
      "source": [
        "from sklearn.preprocessing import MinMaxScaler\n"
      ],
      "metadata": {
        "id": "Wjc_M-9F1WTN"
      },
      "execution_count": 16,
      "outputs": []
    },
    {
      "cell_type": "code",
      "execution_count": 34,
      "metadata": {
        "id": "NXCloMnk9aVh"
      },
      "outputs": [],
      "source": [
        "df_train = pd.read_csv(\"spotify-2023.csv\", encoding=\"ISO-8859-1\")\n",
        "df_eval = pd.read_csv(\"spotify-2023.csv\", encoding=\"ISO-8859-1\")\n",
        "columns_to_check = [\n",
        "    'artist_count', 'released_month', 'released_day', 'in_spotify_playlists',\n",
        "    'in_spotify_charts', 'in_apple_playlists', 'in_apple_charts', 'in_deezer_playlists',\n",
        "    'in_deezer_charts', 'in_shazam_charts', 'bpm', 'key', 'mode', 'danceability_%',\n",
        "    'valence_%', 'energy_%', 'acousticness_%', 'instrumentalness_%', 'liveness_%', 'track_name', 'artist(s)_name',\n",
        "    'released_year'\n",
        "]\n",
        "\n",
        "for column in columns_to_check:\n",
        "  df_eval.pop(column)\n",
        "  df_train.pop(column)\n",
        "\n",
        "df_train['speechiness_%'] = pd.to_numeric(df_train['speechiness_%'], errors='coerce')\n",
        "df_train['streams'] = pd.to_numeric(df_train['streams'], errors='coerce')\n",
        "\n",
        "df_eval['speechiness_%'] = pd.to_numeric(df_eval['speechiness_%'], errors='coerce')\n",
        "df_eval['streams'] = pd.to_numeric(df_eval['streams'], errors='coerce')\n",
        "\n",
        "# Fill NaN values\n",
        "df_train = df_train.fillna(0)\n",
        "df_eval = df_eval.fillna(0)\n",
        "\n",
        "scaler = MinMaxScaler()\n",
        "\n",
        "df_train[['speechiness_%', 'streams']] = scaler.fit_transform(df_train[['speechiness_%', 'streams']])\n",
        "df_eval[['speechiness_%', 'streams']] = scaler.transform(df_eval[['speechiness_%', 'streams']])\n",
        "\n",
        "y_train = df_train.pop(\"streams\")\n",
        "y_eval = df_eval.pop(\"streams\")\n"
      ]
    },
    {
      "cell_type": "code",
      "execution_count": null,
      "metadata": {
        "id": "5TsjLWTABISf"
      },
      "outputs": [],
      "source": [
        "# Display the styled DataFrame\n",
        "\n",
        "NUMERIC_COLUMNS = ['speechiness_%']\n",
        "\n",
        "feature_columns = [tf.feature_column.numeric_column(feature_name, dtype=tf.float32) for feature_name in NUMERIC_COLUMNS]\n",
        "\n",
        "print(feature_columns)"
      ]
    },
    {
      "cell_type": "code",
      "execution_count": 41,
      "metadata": {
        "colab": {
          "base_uri": "https://localhost:8080/"
        },
        "id": "yPMXj-OvGzst",
        "outputId": "d1e6826c-888d-4ae9-a87d-478d87c14cfc"
      },
      "outputs": [
        {
          "output_type": "stream",
          "name": "stdout",
          "text": [
            "{'average_loss': 0.023199234, 'label/mean': 0.13866426, 'loss': 0.023077926, 'prediction/mean': 0.12885933, 'global_step': 300}\n"
          ]
        }
      ],
      "source": [
        "\n",
        "\n",
        "def make_input_fn(data_df, label_df, num_epochs=10, shuffle=True, batch_size=32):\n",
        "  def input_function():\n",
        "    features = dict(data_df)\n",
        "    ds = tf.data.Dataset.from_tensor_slices((features, label_df))\n",
        "    if shuffle:\n",
        "      ds = ds.shuffle(1000)\n",
        "    ds = ds.batch(batch_size).repeat(num_epochs)\n",
        "\n",
        "    return ds\n",
        "  return input_function\n",
        "\n",
        "\n",
        "train_input_fn = make_input_fn(df_train, y_train)\n",
        "eval_input_fn = make_input_fn(df_eval, y_eval, num_epochs=1, shuffle=False)\n",
        "\n",
        "linear_est = tf.estimator.LinearRegressor(feature_columns=feature_columns)\n",
        "\n",
        "linear_est.train(train_input_fn)\n",
        "result = linear_est.evaluate(eval_input_fn)\n",
        "\n",
        "clear_output()\n",
        "print(result)\n",
        "\n",
        "\n"
      ]
    },
    {
      "cell_type": "code",
      "source": [
        "formatted_result = {\n",
        "    'Average Loss': '{:.3f}'.format(result['average_loss']),\n",
        "    'Label Mean': '{:.3f}'.format(result['label/mean']),\n",
        "    'Total Loss': '{:.3f}'.format(result['loss']),\n",
        "    'Prediction Mean': '{:.3f}'.format(result['prediction/mean']),\n",
        "    'Global Step': result['global_step']\n",
        "}\n",
        "\n",
        "for key, value in formatted_result.items():\n",
        "    print(f'{key}: {value}')"
      ],
      "metadata": {
        "colab": {
          "base_uri": "https://localhost:8080/"
        },
        "id": "fkqV-al-AkCv",
        "outputId": "15a7f548-d0e8-4f67-8d4c-66dbb11ef973"
      },
      "execution_count": 42,
      "outputs": [
        {
          "output_type": "stream",
          "name": "stdout",
          "text": [
            "Average Loss: 0.023\n",
            "Label Mean: 0.139\n",
            "Total Loss: 0.023\n",
            "Prediction Mean: 0.129\n",
            "Global Step: 300\n"
          ]
        }
      ]
    }
  ],
  "metadata": {
    "colab": {
      "provenance": [],
      "authorship_tag": "ABX9TyMIf9NJZIyVCmfDkFzg33vC",
      "include_colab_link": true
    },
    "kernelspec": {
      "display_name": "Python 3",
      "name": "python3"
    },
    "language_info": {
      "name": "python"
    }
  },
  "nbformat": 4,
  "nbformat_minor": 0
}